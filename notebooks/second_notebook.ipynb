{
 "cells": [
  {
   "cell_type": "markdown",
   "id": "fadf103d",
   "metadata": {},
   "source": [
    "# Getting started\n",
    "\n",
    "> This is an extension of the first notebook, that also uses the allele names from Pombase.\n",
    "\n",
    "This is supposed to illustrate a bit the task at hand. Let's start by extracting the allele names from the genotypes.\n",
    "\n",
    "In principle, alleles in the genotype string should be separated by spaces. Some will be wrong, but that's fine for now."
   ]
  },
  {
   "cell_type": "code",
   "execution_count": 238,
   "id": "4e5c60cb",
   "metadata": {},
   "outputs": [],
   "source": [
    "import pandas\n",
    "import re\n",
    "\n",
    "# We make a set to store the alleles\n",
    "allele_names = set([])\n",
    "data = pandas.read_csv('../data/strains.tsv', sep='\\t')\n",
    "\n",
    "# We force conversion to string, otherwise empty values are parsed as nans (floats)\n",
    "data['genotype'] = data['genotype'].astype(str)\n",
    "\n",
    "for genotype in data.genotype:\n",
    "    # split the genotype by any separator and add the alleles names to the set\n",
    "    allele_names.update([a.lower() for a in  re.split(\"\\s+\",genotype)])\n",
    "\n"
   ]
  },
  {
   "cell_type": "markdown",
   "id": "7512f527",
   "metadata": {},
   "source": [
    "We want now to get an idea of the ways alleles have been stored. Some of the inconsistencies will be the same for many genes, so we will substitute the name of the gene in the allele by the word \"GENE\"\n",
    "\n",
    "> The new thing\n",
    "\n",
    "Now we make a dictionary where the keys are any of the synonyms of the genes, and the return value is the systematic identifier of the gene.\n",
    "\n",
    "Note that in the 'real script' we would have to take into account that some gene names are a synonym of one gene, and the main gene of another, for example, `cdc7` is both the main name of `SPBC21.06c` and a synonym of `hsk1` (`SPBC776.12c`). Messy messy!"
   ]
  },
  {
   "cell_type": "code",
   "execution_count": 239,
   "id": "79bbe4ba",
   "metadata": {},
   "outputs": [],
   "source": [
    "# Read all gene names and identifiers\n",
    "\n",
    "systematic_ids = set()\n",
    "gene_names = set()\n",
    "other = set()\n",
    "gene_dictionary = dict()\n",
    "\n",
    "\n",
    "def add_gene_name(gene_name):\n",
    "    if re.match(r'[a-z]{3}\\d+',gene_name) is not None:\n",
    "        gene_names.add(gene_name)\n",
    "    elif re.match(r'SP.+\\.\\d+c?',gene_name) is not None:\n",
    "        systematic_ids.add(gene_name)\n",
    "    else:\n",
    "        other.add(gene_name)\n",
    "\n",
    "with open('../data/gene_IDs_names.tsv') as ins:\n",
    "    # First line does not count\n",
    "    ins.readline()\n",
    "    for line in ins:\n",
    "        fields = line.strip().split('\\t')\n",
    "        add_gene_name(fields[0])\n",
    "        gene_dictionary[fields[0]] = fields[0]\n",
    "        if len(fields)>1:\n",
    "            add_gene_name(fields[1])\n",
    "            gene_dictionary[fields[1]] = fields[0]\n",
    "            if len(fields)>2:\n",
    "                if ',' in fields[2]:\n",
    "                    [add_gene_name(f) for f in fields[2].split(',')]\n",
    "                    for f in fields[2].split(','):\n",
    "                        add_gene_name(f)\n",
    "                        gene_dictionary[f] = fields[0]\n",
    "                else:\n",
    "                    add_gene_name(fields[2])\n",
    "                    gene_dictionary[fields[2]] = fields[0]\n",
    "\n",
    "# There are some gene synonyms that fall out of the naming conventions. For now we can leave them outside\n",
    "# print(other)\n"
   ]
  },
  {
   "cell_type": "markdown",
   "id": "e34d9f1d",
   "metadata": {},
   "source": [
    "> This is also new\n",
    "\n",
    "Now we create a dictionary in which the keys are the systematic ids, and the values are lists of alleles. We omit the genes that have delta in them, since people typically don't type `delta` (they use the symbol)"
   ]
  },
  {
   "cell_type": "code",
   "execution_count": 240,
   "id": "68d5ff1c",
   "metadata": {},
   "outputs": [],
   "source": [
    "allele_dictionary = dict()\n",
    "\n",
    "with open('../data/alleles_pombemine.tsv') as ins:\n",
    "    for line in ins:\n",
    "        ls = line.strip().split('\\t')\n",
    "        if 'delta' not in ls[2]:\n",
    "            # Check if the key already exists, if not create a list with that value\n",
    "            systematic_id = ls[0]\n",
    "            allele_name = ls[2]\n",
    "            if systematic_id in allele_dictionary:\n",
    "                allele_dictionary[systematic_id].append(allele_name)\n",
    "            # Otherwise, append to the existing list\n",
    "            else:\n",
    "                allele_dictionary[systematic_id] = [allele_name]\n",
    "\n",
    "# All lists of alleles should be order in inverse order of length, so that you try to subsitute the longest names first,\n",
    "# for instance, you should try to replace cdc2-12 before cdc2-1\n",
    "\n",
    "for key in allele_dictionary:\n",
    "    allele_dictionary[key].sort(key=len,reverse=True)\n",
    "\n"
   ]
  },
  {
   "cell_type": "markdown",
   "id": "085cecda",
   "metadata": {},
   "source": [
    "Now let's replace the gene names in the allele names by `GENE` and store them in a list. Then let's see what are the most common occurrences in the list.\n",
    "\n",
    "> New thing\n",
    "\n",
    "Now, if we find an allele name, we replace by `ALLELE`"
   ]
  },
  {
   "cell_type": "code",
   "execution_count": 241,
   "id": "83ed27b5",
   "metadata": {},
   "outputs": [],
   "source": [
    "alleles_with_replaced_name = list()\n",
    "\n",
    "for genotype_allele in allele_names:\n",
    "\n",
    "    for name in re.findall(r'[a-z]{3}\\d+',genotype_allele):\n",
    "        if name in gene_names:\n",
    "\n",
    "            # Get the systematic id of the gene\n",
    "            systematic_id = gene_dictionary[name]\n",
    "\n",
    "            # Find the alleles of that gene and see if any of them is in the alelle name\n",
    "            allele_found = False\n",
    "            if systematic_id in allele_dictionary:\n",
    "                for published_allele in allele_dictionary[systematic_id]:\n",
    "                    if published_allele.lower() in genotype_allele:\n",
    "                        genotype_allele = genotype_allele.replace(published_allele.lower(),'ALLELE')\n",
    "                        allele_found = True\n",
    "                        break\n",
    "\n",
    "            # If the allele name was not found, replace with GENE\n",
    "            if not allele_found:\n",
    "                genotype_allele = genotype_allele.replace(name,'GENE')\n",
    "\n",
    "    # Here no caps, because we have changed all genotypes to no caps\n",
    "    for systematic_id in re.findall(r'sp.+\\.\\d+c?',genotype_allele):\n",
    "        if systematic_id in map(str.lower, systematic_ids):\n",
    "            allele_found = False\n",
    "            if systematic_id in allele_dictionary:\n",
    "                for published_allele in allele_dictionary[systematic_id]:\n",
    "                    if published_allele.lower() in genotype_allele:\n",
    "                        genotype_allele = genotype_allele.replace(published_allele.lower(),'ALLELE')\n",
    "                        allele_found = True\n",
    "                        break\n",
    "\n",
    "            # If the allele name was not found, replace with GENE\n",
    "            if not allele_found:\n",
    "                genotype_allele = genotype_allele.replace(systematic_id,'GENE')\n",
    "\n",
    "    alleles_with_replaced_name.append(genotype_allele)\n"
   ]
  },
  {
   "cell_type": "markdown",
   "id": "5c4f8c59",
   "metadata": {},
   "source": [
    "We can also replace the resistance markers for `MARKER`"
   ]
  },
  {
   "cell_type": "code",
   "execution_count": 242,
   "id": "3eb046c2",
   "metadata": {},
   "outputs": [],
   "source": [
    "markers = ['kanr','kanmx6','kanmx4','kanmx','hygr','hyg','hphmx','hphr','hph','natmx','natr','nat','kan','natmx6',r'\\d*myc',r'\\d*flag\\d*']\n",
    "\n",
    "for i in range(len(alleles_with_replaced_name)):\n",
    "    for marker in markers:\n",
    "        alleles_with_replaced_name[i] = re.sub(marker,'MARKER',alleles_with_replaced_name[i])\n",
    "\n",
    "tags = ['tdtomato','megfp','egfp','gfp','mcherry','cfp','spmneongreen','mneongreen','2xyfp','myfp','yfp']\n",
    "\n",
    "for i in range(len(alleles_with_replaced_name)):\n",
    "    for tag in tags:\n",
    "        alleles_with_replaced_name[i] = re.sub(tag,'TAG',alleles_with_replaced_name[i])\n",
    "\n",
    "# TODO: ask about adh promoter to authors, also prep81 and so probably wrongly used\n",
    "promoters = [r'p?nmt\\d*',r'p?adh\\d*',r'prep\\d*']\n",
    "\n",
    "for i in range(len(alleles_with_replaced_name)):\n",
    "    for promoter in promoters:\n",
    "        alleles_with_replaced_name[i] = re.sub(promoter,'PROMOTER',alleles_with_replaced_name[i])\n",
    "\n",
    "# Ignore\n",
    "# truncations = [r'\\d+-\\d+']\n",
    "# trunc_ls = list()\n",
    "\n",
    "# for i in range(len(alleles_with_replaced_name)):\n",
    "#     for truncation in truncations:\n",
    "#         tt = re.findall(truncation,alleles_with_replaced_name[i])\n",
    "#         alleles_with_replaced_name[i] = re.sub(truncation,'TRUNCATION',alleles_with_replaced_name[i])\n",
    "#         if len(tt)!=0:\n",
    "#             trunc_ls.append(alleles_with_replaced_name[i])\n",
    "\n",
    "# counted = Counter(trunc_ls)\n",
    "# print(counted.most_common())\n"
   ]
  },
  {
   "cell_type": "markdown",
   "id": "47c442b1",
   "metadata": {},
   "source": [
    "We can also replace all spaces for a single dash and leading or trailing symbols"
   ]
  },
  {
   "cell_type": "code",
   "execution_count": 243,
   "id": "228aed60",
   "metadata": {},
   "outputs": [],
   "source": [
    "for i in range(len(alleles_with_replaced_name)):\n",
    "    alleles_with_replaced_name[i] = re.sub(r'[:-<\\.]+','-',alleles_with_replaced_name[i])\n",
    "    alleles_with_replaced_name[i] = re.sub(r'^-','',alleles_with_replaced_name[i])\n",
    "    alleles_with_replaced_name[i] = re.sub(r'-$','',alleles_with_replaced_name[i])\n"
   ]
  },
  {
   "cell_type": "code",
   "execution_count": 244,
   "id": "5ae6b17b",
   "metadata": {},
   "outputs": [
    {
     "name": "stdout",
     "output_type": "stream",
     "text": [
      "reduced by 0.5252461951656222\n"
     ]
    }
   ],
   "source": [
    "from collections import Counter\n",
    "\n",
    "counted = Counter(alleles_with_replaced_name)\n",
    "# Sort\n",
    "result = counted.most_common()\n",
    "\n",
    "# Write into file\n",
    "\n",
    "with open('dummy00.txt','w') as out:\n",
    "    for r in result:\n",
    "        out.write(f'{r[0]} {r[1]}\\n')\n",
    "\n",
    "print('reduced by',1-len(result)/len(allele_names))"
   ]
  },
  {
   "cell_type": "markdown",
   "id": "69bb8f04",
   "metadata": {},
   "source": [
    "# Further refinement\n",
    "\n",
    "We can now look the most common occurrences of words of N letters, that is a good way to fish for patterns"
   ]
  },
  {
   "cell_type": "code",
   "execution_count": 245,
   "id": "de46771e",
   "metadata": {},
   "outputs": [],
   "source": [
    "def count_most_common_consecutive_N_characters(file,n):\n",
    "    all_occurrences = list()\n",
    "    with open(file,'r') as ins:\n",
    "        for line in ins:\n",
    "            line = line.strip()\n",
    "            line = line.replace('GENE','')\n",
    "            line = line.replace('MARKER','')\n",
    "            line = line.replace('TAG','')\n",
    "            line = line.replace('ALLELE','')\n",
    "            line = line.replace('PROMOTER','')\n",
    "            if len(line)>=n:\n",
    "                all_occurrences += [line[i:i+n] for i in range(0,len(line)-n+1)]\n",
    "\n",
    "    return Counter(all_occurrences)\n",
    "\n",
    "counted = count_most_common_consecutive_N_characters('dummy00.txt',6)\n",
    "\n",
    "with open('dummy01.txt','w') as out:\n",
    "    for r in counted.most_common():\n",
    "        out.write(f'{r[0]} {r[1]}\\n')\n",
    "\n",
    "\n"
   ]
  }
 ],
 "metadata": {
  "interpreter": {
   "hash": "4879783bcd33e702ecc2336fd6b30372387fb46e1efe031d2732fb0fbe6900da"
  },
  "kernelspec": {
   "display_name": "Python 3.9.12 ('.venv': poetry)",
   "language": "python",
   "name": "python3"
  },
  "language_info": {
   "codemirror_mode": {
    "name": "ipython",
    "version": 3
   },
   "file_extension": ".py",
   "mimetype": "text/x-python",
   "name": "python",
   "nbconvert_exporter": "python",
   "pygments_lexer": "ipython3",
   "version": "3.9.12"
  }
 },
 "nbformat": 4,
 "nbformat_minor": 5
}
