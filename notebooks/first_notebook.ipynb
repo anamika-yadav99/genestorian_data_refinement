{
 "cells": [
  {
   "cell_type": "markdown",
   "id": "fadf103d",
   "metadata": {},
   "source": [
    "# Getting started\n",
    "\n",
    "This is supposed to illustrate a bit the task at hand. Let's start by extracting the allele names from the genotypes.\n",
    "\n",
    "In principle, alleles in the genotype string should be separated by spaces. Some will be wrong, but that's fine for now."
   ]
  },
  {
   "cell_type": "code",
   "execution_count": 14,
   "metadata": {},
   "outputs": [],
   "source": [
    "import pandas\n",
    "import re\n",
    "\n",
    "# We make a set to store the alleles\n",
    "allele_names = set([])\n",
    "data = pandas.read_csv('../data/strains.tsv', sep='\\t')\n",
    "\n",
    "# We force conversion to string, otherwise empty values are parsed as nans (floats)\n",
    "data['genotype'] = data['genotype'].astype(str)\n",
    "\n",
    "for genotype in data.genotype:\n",
    "    # split the genotype by any separator and add the alleles names to the set\n",
    "    allele_names.update([a.lower() for a in  re.split(\"\\s+\",genotype)])\n",
    "\n"
   ]
  },
  {
   "cell_type": "markdown",
   "id": "7512f527",
   "metadata": {},
   "source": [
    "We want now to get an idea of the ways alleles have been stored. Some of the inconsistencies will be the same for many genes, so we will substitute the name of the gene in the allele by the word \"GENE\""
   ]
  },
  {
   "cell_type": "code",
   "execution_count": 15,
   "id": "79bbe4ba",
   "metadata": {},
   "outputs": [],
   "source": [
    "# Read all gene names and identifiers\n",
    "\n",
    "systematic_ids = set()\n",
    "gene_names = set()\n",
    "other = set()\n",
    "\n",
    "def add_gene_name(gene_name):\n",
    "    if re.match(r'[a-z]{3}\\d+',gene_name) is not None:\n",
    "        gene_names.add(gene_name)\n",
    "    elif re.match(r'SP.+\\.\\d+c?',gene_name) is not None:\n",
    "        systematic_ids.add(gene_name)\n",
    "    else:\n",
    "        other.add(gene_name)\n",
    "\n",
    "with open('../data/gene_IDs_names.tsv') as ins:\n",
    "    # First line does not count\n",
    "    ins.readline()\n",
    "    for line in ins:\n",
    "        fields = line.strip().split('\\t')\n",
    "        add_gene_name(fields[0])\n",
    "        if len(fields)>1:\n",
    "            add_gene_name(fields[1])\n",
    "            if len(fields)>2:\n",
    "                if ',' in fields[2]:\n",
    "                    [add_gene_name(f) for f in fields[2].split(',')]\n",
    "                else:\n",
    "                    add_gene_name(fields[2])\n",
    "\n",
    "# There are some gene synonyms that fall out of the naming conventions. For now we can leave them outside\n",
    "# print(other)\n"
   ]
  },
  {
   "cell_type": "markdown",
   "id": "085cecda",
   "metadata": {},
   "source": [
    "Now let's replace the gene names in the allele names by `GENE` and store them in a list. Then let's see what are the most common occurrences in the list."
   ]
  },
  {
   "cell_type": "code",
   "execution_count": 16,
   "id": "83ed27b5",
   "metadata": {},
   "outputs": [],
   "source": [
    "alleles_with_replaced_name = list()\n",
    "\n",
    "for allele in allele_names:\n",
    "\n",
    "    for name in re.findall(r'[a-z]{3}\\d+',allele):\n",
    "        if name in gene_names:\n",
    "            allele = allele.replace(name,'GENE')\n",
    "\n",
    "    for name in re.findall(r'SP.+\\.\\d+c?',allele):\n",
    "        if name in systematic_ids:\n",
    "            allele = allele.replace(name,'GENE')\n",
    "\n",
    "    alleles_with_replaced_name.append(allele)\n"
   ]
  },
  {
   "cell_type": "markdown",
   "id": "5c4f8c59",
   "metadata": {},
   "source": [
    "We can also replace the resistance markers for `MARKER`"
   ]
  },
  {
   "cell_type": "code",
   "execution_count": 17,
   "id": "3eb046c2",
   "metadata": {},
   "outputs": [],
   "source": [
    "markers = ['kanr','kanmx6','kanmx4','kanmx','hygr','hphr','natr','kan','natmx6']\n",
    "\n",
    "for i in range(len(alleles_with_replaced_name)):\n",
    "    for marker in markers:\n",
    "        if marker in alleles_with_replaced_name[i]:\n",
    "            alleles_with_replaced_name[i] = alleles_with_replaced_name[i].replace(marker,'MARKER')\n",
    "\n",
    "tags = ['gfp','mcherry']\n",
    "\n",
    "for i in range(len(alleles_with_replaced_name)):\n",
    "    for tag in tags:\n",
    "        if tag in alleles_with_replaced_name[i]:\n",
    "            alleles_with_replaced_name[i] = alleles_with_replaced_name[i].replace(tag,'TAG')"
   ]
  },
  {
   "cell_type": "code",
   "execution_count": 18,
   "id": "5ae6b17b",
   "metadata": {},
   "outputs": [],
   "source": [
    "from collections import Counter\n",
    "\n",
    "counted = Counter(alleles_with_replaced_name)\n",
    "# Sort\n",
    "result = counted.most_common()\n",
    "\n",
    "# Write into file\n",
    "\n",
    "with open('dummy00.txt','w') as out:\n",
    "    for r in result:\n",
    "\n",
    "        out.write(f'{r[0]} {r[1]}\\n')\n"
   ]
  }
 ],
 "metadata": {
  "interpreter": {
   "hash": "4879783bcd33e702ecc2336fd6b30372387fb46e1efe031d2732fb0fbe6900da"
  },
  "kernelspec": {
   "display_name": "Python 3.9.12 ('.venv': poetry)",
   "language": "python",
   "name": "python3"
  },
  "language_info": {
   "codemirror_mode": {
    "name": "ipython",
    "version": 3
   },
   "file_extension": ".py",
   "mimetype": "text/x-python",
   "name": "python",
   "nbconvert_exporter": "python",
   "pygments_lexer": "ipython3",
   "version": "3.9.12"
  }
 },
 "nbformat": 4,
 "nbformat_minor": 5
}
