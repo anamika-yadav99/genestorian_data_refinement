{
 "cells": [
  {
   "cell_type": "code",
   "execution_count": 2,
   "metadata": {},
   "outputs": [],
   "source": [
    "from converge import converge\n",
    "converge().converge_files('coverged_patterns.txt')"
   ]
  },
  {
   "cell_type": "code",
   "execution_count": 4,
   "metadata": {},
   "outputs": [],
   "source": [
    "from pattern_identify import count_most_common_consecutive_N_characters\n",
    "counted = count_most_common_consecutive_N_characters('coverged_patterns.txt', 10 )"
   ]
  },
  {
   "cell_type": "code",
   "execution_count": null,
   "metadata": {},
   "outputs": [],
   "source": [
    "from pattern_identify import find\n",
    "found = find('mtagbfp2', '..\\Lab_strains\\dey_lab\\Manu_strains.tsv')"
   ]
  }
 ],
 "metadata": {
  "kernelspec": {
   "display_name": "Python 3.9.7 ('base')",
   "language": "python",
   "name": "python3"
  },
  "language_info": {
   "codemirror_mode": {
    "name": "ipython",
    "version": 3
   },
   "file_extension": ".py",
   "mimetype": "text/x-python",
   "name": "python",
   "nbconvert_exporter": "python",
   "pygments_lexer": "ipython3",
   "version": "3.9.7"
  },
  "orig_nbformat": 4,
  "vscode": {
   "interpreter": {
    "hash": "07159c4ff0a5a7ed6e88ece63ff88bf7d33660e0afc57b56c7e9a63f41e164d5"
   }
  }
 },
 "nbformat": 4,
 "nbformat_minor": 2
}
